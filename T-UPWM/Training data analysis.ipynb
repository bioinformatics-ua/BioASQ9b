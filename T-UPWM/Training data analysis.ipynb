{
 "cells": [
  {
   "cell_type": "code",
   "execution_count": 3,
   "metadata": {},
   "outputs": [],
   "source": [
    "from mmnrm.dataset import TrainCollectionV2\n",
    "\n",
    "train_collection = TrainCollectionV2\\\n",
    "                                .load(\"training_batch_01_250\")"
   ]
  },
  {
   "cell_type": "code",
   "execution_count": 4,
   "metadata": {},
   "outputs": [
    {
     "name": "stdout",
     "output_type": "stream",
     "text": [
      "Sub Collection size 649700\n",
      "Number of skipped question, due to lack of true positives 0\n"
     ]
    }
   ],
   "source": [
    "print(\"Sub Collection size\", len(train_collection.collection))\n",
    "print(\"Number of skipped question, due to lack of true positives\", len(train_collection.skipped_queries))"
   ]
  },
  {
   "cell_type": "code",
   "execution_count": null,
   "metadata": {},
   "outputs": [],
   "source": []
  }
 ],
 "metadata": {
  "kernelspec": {
   "display_name": "py-bioasq",
   "language": "python",
   "name": "py-bioasq"
  },
  "language_info": {
   "codemirror_mode": {
    "name": "ipython",
    "version": 3
   },
   "file_extension": ".py",
   "mimetype": "text/x-python",
   "name": "python",
   "nbconvert_exporter": "python",
   "pygments_lexer": "ipython3",
   "version": "3.6.9"
  }
 },
 "nbformat": 4,
 "nbformat_minor": 4
}
