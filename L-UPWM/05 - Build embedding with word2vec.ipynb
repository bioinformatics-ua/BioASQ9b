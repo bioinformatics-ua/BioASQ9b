{
 "cells": [
  {
   "cell_type": "code",
   "execution_count": 1,
   "metadata": {},
   "outputs": [],
   "source": [
    "from nir.tokenizers import Regex, BioCleanTokenizer, BioCleanTokenizer2, Regex2\n",
    "from utils import collection_iterator_fn\n",
    "\n",
    "import os\n",
    "import json\n",
    "import time\n",
    "\n",
    "cache_folder = \"/backup/NIR_BioASQ\"\n",
    "\n",
    "index_name = \"bioasq_9b\"\n",
    "\n",
    "zipped_collection = \"/backup/pubmed_archive_json/\"+index_name+\".tar.gz\""
   ]
  },
  {
   "cell_type": "code",
   "execution_count": 2,
   "metadata": {},
   "outputs": [
    {
     "name": "stdout",
     "output_type": "stream",
     "text": [
      "DEBUG created tokenizer bioasq_9b_RegexTokenizer\n",
      "False False\n",
      "Regex\n"
     ]
    }
   ],
   "source": [
    "_class = Regex\n",
    "#_class = Regex2\n",
    "#_class = BioCleanTokenizer\n",
    "#_class = BioCleanTokenizer2\n",
    "\n",
    "tk = _class.load_from_json(cache_folder=os.path.join(cache_folder, \"tokenizers\"), \n",
    "                           prefix_name=index_name)\n",
    "\n",
    "print(_class.__name__)"
   ]
  },
  {
   "cell_type": "code",
   "execution_count": 3,
   "metadata": {},
   "outputs": [],
   "source": [
    "min_freq=0\n",
    "\n",
    "tk.update_min_word_frequency(min_freq)"
   ]
  },
  {
   "cell_type": "code",
   "execution_count": 4,
   "metadata": {},
   "outputs": [
    {
     "data": {
      "text/plain": [
       "5322622"
      ]
     },
     "execution_count": 4,
     "metadata": {},
     "output_type": "execute_result"
    }
   ],
   "source": [
    "tk.vocabulary_size()"
   ]
  },
  {
   "cell_type": "code",
   "execution_count": 5,
   "metadata": {},
   "outputs": [],
   "source": [
    "from gensim.models.callbacks import CallbackAny2Vec\n",
    "\n",
    "from gensim.test.utils import common_texts, get_tmpfile\n",
    "from gensim.models import Word2Vec\n",
    "\n",
    "emb_size = 200\n",
    "_iter=15\n",
    "class EpochLogger(CallbackAny2Vec):\n",
    "    '''Callback to log information about training'''\n",
    "\n",
    "    def __init__(self):\n",
    "        self.epoch = 0\n",
    "\n",
    "    def on_epoch_begin(self, model):\n",
    "        print(\"Epoch #{} start\".format(self.epoch))\n",
    "\n",
    "    def on_epoch_end(self, model):\n",
    "        print(\"Epoch #{} end\".format(self.epoch))\n",
    "        self.epoch += 1\n",
    "        if self.epoch == 5:\n",
    "            model.wv.save(fname_or_handle =\"/backup/pre-trained_embeddings/word2vec/\"+index_name+\"_gensim_iter_\"+str(5)+\"_freq\"+str(min_freq)+\"_\"+str(emb_size)+\"_\"+_class.__name__+\"_word2vec.bin\")\n",
    "        elif self.epoch == 10:\n",
    "            model.wv.save(fname_or_handle =\"/backup/pre-trained_embeddings/word2vec/\"+index_name+\"_gensim_iter_\"+str(10)+\"_freq\"+str(min_freq)+\"_\"+str(emb_size)+\"_\"+_class.__name__+\"_word2vec.bin\")\n",
    "        elif self.epoch == 15:\n",
    "            model.wv.save(fname_or_handle =\"/backup/pre-trained_embeddings/word2vec/\"+index_name+\"_gensim_iter_\"+str(_iter)+\"_freq\"+str(min_freq)+\"_\"+str(emb_size)+\"_\"+_class.__name__+\"_word2vec.bin\")"
   ]
  },
  {
   "cell_type": "code",
   "execution_count": 6,
   "metadata": {},
   "outputs": [],
   "source": [
    "def sentences_generator():\n",
    "    \n",
    "    corpus_generator = collection_iterator_fn(zipped_collection, f_map=lambda x:x[\"title\"]+\" \"+x[\"abstract\"])\n",
    "    \n",
    "    with open(\"training9b.json\", \"r\") as f:\n",
    "        queries = list(map(lambda x:x[\"body\"], json.load(f)[\"questions\"]))\n",
    "        queries = tk.texts_to_sequences(queries)\n",
    "                \n",
    "    print(\"word2vec queries\")\n",
    "    for q in queries:\n",
    "        yield list(map(lambda x: tk.index_word[x], q))\n",
    "\n",
    "    print(\"word2vec docs\")\n",
    "    for subarticles in corpus_generator():\n",
    "        s_time = time.time()\n",
    "        subarticles = tk.texts_to_sequences(subarticles)\n",
    "        print(\"tokenizer time\", time.time() - s_time)\n",
    "        for article in subarticles:\n",
    "            yield list(map(lambda x: tk.index_word[x], article))"
   ]
  },
  {
   "cell_type": "code",
   "execution_count": null,
   "metadata": {},
   "outputs": [
    {
     "name": "stdout",
     "output_type": "stream",
     "text": [
      "[CORPORA] Openning tar file /backup/pubmed_archive_json/bioasq_9b.tar.gz\n",
      "word2vec queries\n",
      "word2vec docs\n",
      "[CORPORA] Openning tar file tmp/tmp5bgbvft3/bioasq_9b_00000000_to_03000000\n",
      "tokenizer time 1389.9364130496979\n",
      "[CORPORA] Openning tar file tmp/tmp5bgbvft3/bioasq_9b_03000000_to_06000000\n"
     ]
    }
   ],
   "source": [
    "corpus = [x for x in sentences_generator()]"
   ]
  },
  {
   "cell_type": "code",
   "execution_count": null,
   "metadata": {},
   "outputs": [],
   "source": [
    "model = Word2Vec(corpus, size=emb_size, iter=_iter, window=5, min_count=0, workers=12, sg=1, negative=5, callbacks=[EpochLogger()])"
   ]
  },
  {
   "cell_type": "code",
   "execution_count": null,
   "metadata": {},
   "outputs": [],
   "source": []
  }
 ],
 "metadata": {
  "kernelspec": {
   "display_name": "py-bioasq",
   "language": "python",
   "name": "py-bioasq"
  },
  "language_info": {
   "codemirror_mode": {
    "name": "ipython",
    "version": 3
   },
   "file_extension": ".py",
   "mimetype": "text/x-python",
   "name": "python",
   "nbconvert_exporter": "python",
   "pygments_lexer": "ipython3",
   "version": "3.6.13"
  }
 },
 "nbformat": 4,
 "nbformat_minor": 2
}
