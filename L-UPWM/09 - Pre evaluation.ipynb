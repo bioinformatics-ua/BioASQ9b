{
 "cells": [
  {
   "cell_type": "code",
   "execution_count": 1,
   "metadata": {},
   "outputs": [],
   "source": [
    "from mmnrm.evaluation import f_map, f_recall\n",
    "from mmnrm.evaluation import BioASQ_JavaEvaluator\n",
    "import os\n",
    "import sys\n",
    "\n",
    "from utils import *"
   ]
  },
  {
   "cell_type": "code",
   "execution_count": 2,
   "metadata": {},
   "outputs": [],
   "source": [
    "def load_gs(file):\n",
    "    with open(file, \"r\", encoding=\"utf-8\") as f:\n",
    "        run = json.load(f)[\"questions\"]\n",
    "    \n",
    "\n",
    "    _temp = {}\n",
    "    for q in run:\n",
    "        _temp[q[\"id\"]] = q[\"documents\"]\n",
    "    run = _temp\n",
    "    \n",
    "    return run\n",
    "\n"
   ]
  },
  {
   "cell_type": "code",
   "execution_count": 6,
   "metadata": {},
   "outputs": [
    {
     "name": "stdout",
     "output_type": "stream",
     "text": [
      "Run runs/rnd1/BIT.UA-01-long.json map 0.30190496031746034 recall 0.408770757020757\n",
      "Run runs/rnd1/BIT.UA-01.json map 0.3172763227513227 recall 0.4288455433455433\n",
      "Run runs/rnd1/BIT.UA-02.json map 0.32959988977072313 recall 0.4389096459096459\n",
      "Run runs/rnd1/BIT.UA-03.json map 0.35154153439153435 recall 0.4506227106227106\n",
      "Run runs/rnd1/BIT.UA-04.json map 0.3572578042328043 recall 0.4404758852258852\n",
      "Run runs/rnd1/BIT.UA-05.json map 0.3525406525573193 recall 0.4557814407814408\n"
     ]
    }
   ],
   "source": [
    "gs = load_gs(\"BioASQ-task9bPhaseB-testset1\")\n",
    "\n",
    "\n",
    "runs = [\"runs/rnd1/BIT.UA-01-long.json\",\n",
    "        \"runs/rnd1/BIT.UA-01.json\", \n",
    "        \"runs/rnd1/BIT.UA-02.json\", \n",
    "        \"runs/rnd1/BIT.UA-03.json\", \n",
    "        \"runs/rnd1/BIT.UA-04.json\", \n",
    "        \"runs/rnd1/BIT.UA-05.json\"]\n",
    "\n",
    "for r in runs:\n",
    "    run = load_bioasq_format(r)\n",
    "    predictions = []\n",
    "    expectations = []\n",
    "\n",
    "    for query in run:\n",
    "        if query[\"id\"] in gs:\n",
    "            predictions.append(query[\"documents\"])\n",
    "            expectations.append(gs[query[\"id\"]]) #gs\n",
    "\n",
    "    print(\"Run\",r,\n",
    "          \"map\",f_map(predictions,expectations,bioASQ_version=8),\n",
    "          \"recall\",f_recall(predictions,expectations, at=10))"
   ]
  },
  {
   "cell_type": "code",
   "execution_count": 10,
   "metadata": {
    "code_folding": []
   },
   "outputs": [
    {
     "name": "stdout",
     "output_type": "stream",
     "text": [
      "Run runs/rnd2/BIT.UA-03-long.json map 0.37062559523809524 recall 0.4966558441558442\n",
      "Run runs/rnd2/BIT.UA-01.json map 0.337972795414462 recall 0.5261792929292929\n",
      "Run runs/rnd2/BIT.UA-02.json map 0.3536960175736962 recall 0.5214368686868687\n",
      "Run runs/rnd2/BIT.UA-03.json map 0.37836015211640217 recall 0.4821955266955268\n",
      "Run runs/rnd2/BIT.UA-04.json map 0.38133424036281177 recall 0.468683621933622\n",
      "Run runs/rnd2/BIT.UA-05.json map 0.37869391534391533 recall 0.5092550505050505\n"
     ]
    }
   ],
   "source": [
    "gs = load_gs(\"BioASQ-task9bPhaseB-testset2\")\n",
    "\n",
    "runs = [\"runs/rnd2/BIT.UA-03-long.json\",\n",
    "        \"runs/rnd2/BIT.UA-01.json\", \n",
    "        \"runs/rnd2/BIT.UA-02.json\", \n",
    "        \"runs/rnd2/BIT.UA-03.json\", \n",
    "        \"runs/rnd2/BIT.UA-04.json\", \n",
    "        \"runs/rnd2/BIT.UA-05.json\"]\n",
    "\n",
    "for r in runs:\n",
    "    run = load_bioasq_format(r)\n",
    "    predictions = []\n",
    "    expectations = []\n",
    "\n",
    "    for query in run:\n",
    "        if query[\"id\"] in gs:\n",
    "            predictions.append(query[\"documents\"])\n",
    "            expectations.append(gs[query[\"id\"]]) #gs\n",
    "\n",
    "    print(\"Run\",r,\n",
    "          \"map\",f_map(predictions,expectations,bioASQ_version=8),\n",
    "          \"recall\",f_recall(predictions,expectations, at=10))"
   ]
  },
  {
   "cell_type": "code",
   "execution_count": 7,
   "metadata": {},
   "outputs": [
    {
     "name": "stdout",
     "output_type": "stream",
     "text": [
      "Run runs/rnd3/BIT.UA-03-long.json map 0.38977649754346183 recall 0.48922799422799423\n",
      "Run runs/rnd3/BIT.UA-01.json map 0.3549693688586546 recall 0.4696919191919192\n",
      "Run runs/rnd3/BIT.UA-02.json map 0.3622085553665911 recall 0.4764419191919192\n",
      "Run runs/rnd3/BIT.UA-03.json map 0.3824279195011337 recall 0.5035573593073592\n",
      "Run runs/rnd3/BIT.UA-04.json map 0.3935370464852608 recall 0.502314935064935\n",
      "Run runs/rnd3/BIT.UA-05.json map 0.38647806437389776 recall 0.4950454545454545\n"
     ]
    }
   ],
   "source": [
    "gs = load_gs(\"BioASQ-task9bPhaseB-testset3\")\n",
    "\n",
    "runs = [\"runs/rnd3/BIT.UA-03-long.json\", \n",
    "        \"runs/rnd3/BIT.UA-01.json\", \n",
    "        \"runs/rnd3/BIT.UA-02.json\", \n",
    "        \"runs/rnd3/BIT.UA-03.json\", \n",
    "        \"runs/rnd3/BIT.UA-04.json\", \n",
    "        \"runs/rnd3/BIT.UA-05.json\"]\n",
    "\n",
    "for r in runs:\n",
    "    run = load_bioasq_format(r)\n",
    "    predictions = []\n",
    "    expectations = []\n",
    "\n",
    "    for query in run:\n",
    "        if query[\"id\"] in gs:\n",
    "            predictions.append(query[\"documents\"])\n",
    "            expectations.append(gs[query[\"id\"]]) #gs\n",
    "\n",
    "    print(\"Run\",r,\n",
    "          \"map\",f_map(predictions,expectations,bioASQ_version=8),\n",
    "          \"recall\",f_recall(predictions,expectations, at=10))"
   ]
  },
  {
   "cell_type": "code",
   "execution_count": 8,
   "metadata": {},
   "outputs": [
    {
     "name": "stdout",
     "output_type": "stream",
     "text": [
      "Remove /tmp/tmp7ras0dwb\n",
      "runs/rnd4/BIT.UA-01.json:\n",
      "\tDoc:\n",
      "\t\tMap@10: 0.38448426870748276\n",
      "\t\tRecall@10: 0.4955079365079365\n",
      "Remove /tmp/tmppwv2q6dy\n",
      "runs/rnd4/BIT.UA-02.json:\n",
      "\tDoc:\n",
      "\t\tMap@10: 0.38489374527588815\n",
      "\t\tRecall@10: 0.49659523809523803\n",
      "\tSnippet:\n",
      "\t\tMap@10: 0.27210046905650126\n",
      "\t\tRecall@10: 0.2043548073120982\n",
      "Remove /tmp/tmpoquys8q8\n",
      "runs/rnd4/BIT.UA-03.json:\n",
      "\tDoc:\n",
      "\t\tMap@10: 0.4236497574955909\n",
      "\t\tRecall@10: 0.5212976190476192\n",
      "Remove /tmp/tmpfsb6bxdw\n",
      "runs/rnd4/BIT.UA-04.json:\n",
      "\tDoc:\n",
      "\t\tMap@10: 0.40417732741244644\n",
      "\t\tRecall@10: 0.527952380952381\n",
      "\tSnippet:\n",
      "\t\tMap@10: 0.36586723796033754\n",
      "\t\tRecall@10: 0.258044301602107\n",
      "Remove /tmp/tmpw9vo8mbp\n",
      "runs/rnd4/BIT.UA-05.json:\n",
      "\tDoc:\n",
      "\t\tMap@10: 0.40417732741244644\n",
      "\t\tRecall@10: 0.527952380952381\n",
      "\tSnippet:\n",
      "\t\tMap@10: 0.5397689761484602\n",
      "\t\tRecall@10: 0.24080922487426978\n"
     ]
    }
   ],
   "source": [
    "\n",
    "\n",
    "runs = [ \n",
    "        \"runs/rnd4/BIT.UA-01.json\", \n",
    "        \"runs/rnd4/BIT.UA-02.json\", \n",
    "        \"runs/rnd4/BIT.UA-03.json\", \n",
    "        \"runs/rnd4/BIT.UA-04.json\", \n",
    "        \"runs/rnd4/BIT.UA-05.json\"]\n",
    "\n",
    "evaluator = BioASQ_JavaEvaluator(\"BioASQ-task9bPhaseB-testset4\", \n",
    "                                 \"/home/tiagoalmeida/BioASQ-9b/BioASQEvaluator/BioASQEvaluation.jar\")\n",
    "\n",
    "for r in runs:\n",
    "    m = evaluator.evaluate(r)\n",
    "    out = f\"{r}:\\n\\tDoc:\\n\\t\\tMap@10: {m['doc_map@10']}\\n\\t\\tRecall@10: {m['doc_r@10']}\"\n",
    "    if float(m['snippet_r@10'])>0:\n",
    "        out += f\"\\n\\tSnippet:\\n\\t\\tMap@10: {m['snippet_map@10']}\\n\\t\\tRecall@10: {m['snippet_r@10']}\"\n",
    "    print(out)\n"
   ]
  },
  {
   "cell_type": "code",
   "execution_count": 9,
   "metadata": {},
   "outputs": [
    {
     "name": "stdout",
     "output_type": "stream",
     "text": [
      "Remove /tmp/tmpkxitzcw7\n",
      "runs/rnd5/BIT.UA-01.json:\n",
      "\tDoc:\n",
      "\t\tMap@10: 0.30980353363567653\n",
      "\t\tRecall@10: 0.4398214285714286\n",
      "Remove /tmp/tmpyvc3f78m\n",
      "runs/rnd5/BIT.UA-02.json:\n",
      "\tDoc:\n",
      "\t\tMap@10: 0.31862072467876046\n",
      "\t\tRecall@10: 0.4458928571428571\n",
      "\tSnippet:\n",
      "\t\tMap@10: 0.7080865689524383\n",
      "\t\tRecall@10: 0.22280309014653946\n",
      "Remove /tmp/tmp799rs9r_\n",
      "runs/rnd5/BIT.UA-03.json:\n",
      "\tDoc:\n",
      "\t\tMap@10: 0.3586112811791384\n",
      "\t\tRecall@10: 0.4895396825396825\n",
      "Remove /tmp/tmpw8u9hqdh\n",
      "runs/rnd5/BIT.UA-04.json:\n",
      "\tDoc:\n",
      "\t\tMap@10: 0.343952305366591\n",
      "\t\tRecall@10: 0.4760317460317461\n",
      "\tSnippet:\n",
      "\t\tMap@10: 0.7375265138070166\n",
      "\t\tRecall@10: 0.24359019221239542\n",
      "Remove /tmp/tmpaa73ng2r\n",
      "runs/rnd5/BIT.UA-05.json:\n",
      "\tDoc:\n",
      "\t\tMap@10: 0.3460609473418998\n",
      "\t\tRecall@10: 0.4643055555555555\n",
      "\tSnippet:\n",
      "\t\tMap@10: 0.5814471726637344\n",
      "\t\tRecall@10: 0.22539834507699058\n"
     ]
    }
   ],
   "source": [
    "\n",
    "runs = [ \n",
    "        \"runs/rnd5/BIT.UA-01.json\", \n",
    "        \"runs/rnd5/BIT.UA-02.json\", \n",
    "        \"runs/rnd5/BIT.UA-03.json\", \n",
    "        \"runs/rnd5/BIT.UA-04.json\", \n",
    "        \"runs/rnd5/BIT.UA-05.json\"]\n",
    "\n",
    "evaluator = BioASQ_JavaEvaluator(\"BioASQ-task9bPhaseB-testset5\", \n",
    "                                 \"/home/tiagoalmeida/BioASQ-9b/BioASQEvaluator/BioASQEvaluation.jar\")\n",
    "\n",
    "for r in runs:\n",
    "    m = evaluator.evaluate(r)\n",
    "    out = f\"{r}:\\n\\tDoc:\\n\\t\\tMap@10: {m['doc_map@10']}\\n\\t\\tRecall@10: {m['doc_r@10']}\"\n",
    "    if float(m['snippet_r@10'])>0:\n",
    "        out += f\"\\n\\tSnippet:\\n\\t\\tMap@10: {m['snippet_map@10']}\\n\\t\\tRecall@10: {m['snippet_r@10']}\"\n",
    "    print(out)\n"
   ]
  },
  {
   "cell_type": "code",
   "execution_count": null,
   "metadata": {},
   "outputs": [],
   "source": []
  }
 ],
 "metadata": {
  "kernelspec": {
   "display_name": "py-bioasq",
   "language": "python",
   "name": "py-bioasq"
  },
  "language_info": {
   "codemirror_mode": {
    "name": "ipython",
    "version": 3
   },
   "file_extension": ".py",
   "mimetype": "text/x-python",
   "name": "python",
   "nbconvert_exporter": "python",
   "pygments_lexer": "ipython3",
   "version": "3.6.13"
  }
 },
 "nbformat": 4,
 "nbformat_minor": 2
}
