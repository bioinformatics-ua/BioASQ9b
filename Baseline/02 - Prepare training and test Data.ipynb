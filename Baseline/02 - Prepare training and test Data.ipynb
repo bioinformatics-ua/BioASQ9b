{
 "cells": [
  {
   "cell_type": "markdown",
   "metadata": {},
   "source": [
    "## Adding dates to the training data"
   ]
  },
  {
   "cell_type": "code",
   "execution_count": 1,
   "metadata": {},
   "outputs": [],
   "source": [
    "import json\n",
    "import os\n",
    "\n",
    "from collections import defaultdict"
   ]
  },
  {
   "cell_type": "code",
   "execution_count": 2,
   "metadata": {},
   "outputs": [
    {
     "data": {
      "text/plain": [
       "'\\nmapping = {\\n    \"1B\":\"2013-01\",\\n    \"2B\":\"2014-01\",\\n    \"3B\":\"2015-01\",\\n    \"4B\":\"2016-01\",\\n    \"5B\":\"2017-01\",\\n    \"6B\":\"2018-01\",\\n    \"7B\":\"2019-01\",\\n    \"8B\":\"2020-01\"\\n}\\n'"
      ]
     },
     "execution_count": 2,
     "metadata": {},
     "output_type": "execute_result"
    }
   ],
   "source": [
    "path = \"yearly_data\"\n",
    "f_list = sorted(os.listdir(path))\n",
    "\n",
    "\n",
    "mapping = {\n",
    "    \"1B\":\"2012-12\",\n",
    "    \"2B\":\"2013-12\",\n",
    "    \"3B\":\"2014-12\",\n",
    "    \"4B\":\"2015-12\",\n",
    "    \"5B\":\"2016-12\",\n",
    "    \"6B\":\"2017-12\",\n",
    "    \"7B\":\"2018-12\",\n",
    "    \"8B\":\"2019-12\"\n",
    "}\n",
    "\n",
    "## New version corrected\n",
    "\"\"\"\n",
    "mapping = {\n",
    "    \"1B\":\"2013-01\",\n",
    "    \"2B\":\"2014-01\",\n",
    "    \"3B\":\"2015-01\",\n",
    "    \"4B\":\"2016-01\",\n",
    "    \"5B\":\"2017-01\",\n",
    "    \"6B\":\"2018-01\",\n",
    "    \"7B\":\"2019-01\",\n",
    "    \"8B\":\"2020-01\"\n",
    "}\n",
    "\"\"\""
   ]
  },
  {
   "cell_type": "code",
   "execution_count": 3,
   "metadata": {},
   "outputs": [],
   "source": [
    "with open(\"training9b.json\") as f:\n",
    "    train9b = json.load(f)[\"questions\"]\n",
    "    \n",
    "train9b_ids = {x[\"id\"] for x in train9b}"
   ]
  },
  {
   "cell_type": "code",
   "execution_count": 4,
   "metadata": {},
   "outputs": [
    {
     "data": {
      "text/plain": [
       "3743"
      ]
     },
     "execution_count": 4,
     "metadata": {},
     "output_type": "execute_result"
    }
   ],
   "source": [
    "len(train9b_ids)"
   ]
  },
  {
   "cell_type": "code",
   "execution_count": 5,
   "metadata": {},
   "outputs": [
    {
     "data": {
      "text/plain": [
       "3800"
      ]
     },
     "execution_count": 5,
     "metadata": {},
     "output_type": "execute_result"
    }
   ],
   "source": [
    "all_test_queries = {}\n",
    "\n",
    "for f_name in f_list:\n",
    "    with open(os.path.join(path, f_name)) as f:\n",
    "        for query_data in json.load(f)[\"questions\"]:\n",
    "            _temp = {}\n",
    "            _temp[\"phase\"] = f_name[:2]\n",
    "            _temp[\"limit_date\"] = mapping[_temp[\"phase\"]]\n",
    "            all_test_queries[query_data[\"id\"]] = _temp\n",
    "            \n",
    "len(all_test_queries)"
   ]
  },
  {
   "cell_type": "code",
   "execution_count": 6,
   "metadata": {},
   "outputs": [
    {
     "data": {
      "text/plain": [
       "3743"
      ]
     },
     "execution_count": 6,
     "metadata": {},
     "output_type": "execute_result"
    }
   ],
   "source": [
    "for q_data in train9b:\n",
    "    try:\n",
    "        q_data[\"phase\"] = all_test_queries[q_data[\"id\"]][\"phase\"]\n",
    "        q_data[\"limit_date\"] = all_test_queries[q_data[\"id\"]][\"limit_date\"]\n",
    "    except:\n",
    "        print(q_data[\"body\"])\n",
    "  \n",
    "len(train9b)"
   ]
  },
  {
   "cell_type": "code",
   "execution_count": 7,
   "metadata": {},
   "outputs": [],
   "source": [
    "with open(\"training9b_wDates_old.json\",\"w\") as f:\n",
    "    json.dump({\"questions\":train9b},f)"
   ]
  },
  {
   "cell_type": "markdown",
   "metadata": {},
   "source": [
    "## Split the data"
   ]
  },
  {
   "cell_type": "code",
   "execution_count": 8,
   "metadata": {},
   "outputs": [
    {
     "name": "stdout",
     "output_type": "stream",
     "text": [
      "500\n"
     ]
    }
   ],
   "source": [
    "test_8b = []\n",
    "\n",
    "for i in range(1,6):\n",
    "    id_sets = set()\n",
    "    with open(f\"yearly_data/8B{i}_golden.json\",\"r\") as f:\n",
    "        for q in json.load(f)[\"questions\"]:\n",
    "            id_sets.add(q[\"id\"])\n",
    "            \n",
    "    test_8b.append(id_sets)\n",
    "\n",
    "print(sum([len(x) for x in test_8b]))"
   ]
  },
  {
   "cell_type": "markdown",
   "metadata": {},
   "source": [
    "## Statistics"
   ]
  },
  {
   "cell_type": "code",
   "execution_count": 9,
   "metadata": {},
   "outputs": [
    {
     "name": "stdout",
     "output_type": "stream",
     "text": [
      "[CORPORA] Openning tar file /backup/pubmed_archive_json/bioasq_9b.tar.gz\n",
      "[CORPORA] Openning tar file tmp/tmp5bgbvft3/bioasq_9b_00000000_to_03000000\n",
      "[CORPORA] Openning tar file tmp/tmp5bgbvft3/bioasq_9b_03000000_to_06000000\n",
      "[CORPORA] Openning tar file tmp/tmp5bgbvft3/bioasq_9b_06000000_to_09000000\n",
      "[CORPORA] Openning tar file tmp/tmp5bgbvft3/bioasq_9b_09000000_to_12000000\n",
      "[CORPORA] Openning tar file tmp/tmp5bgbvft3/bioasq_9b_12000000_to_15000000\n",
      "[CORPORA] Openning tar file tmp/tmp5bgbvft3/bioasq_9b_15000000_to_18000000\n",
      "[CORPORA] Openning tar file tmp/tmp5bgbvft3/bioasq_9b_18000000_to_21000000\n",
      "[CORPORA] Openning tar file tmp/tmp5bgbvft3/bioasq_9b_21000000_to_21165909\n"
     ]
    }
   ],
   "source": [
    "from utils import collection_iterator, f_map, create_filter_query_function, to_date\n",
    "\n",
    "articles = sum(collection_iterator(\"/backup/pubmed_archive_json/bioasq_9b.tar.gz\"), [])\n",
    "articles = {x[\"id\"]:x for x in articles}"
   ]
  },
  {
   "cell_type": "code",
   "execution_count": 11,
   "metadata": {},
   "outputs": [
    {
     "name": "stdout",
     "output_type": "stream",
     "text": [
      "documents_not_present 108\n",
      "invalid_document 647\n",
      "valid_document 34530\n"
     ]
    }
   ],
   "source": [
    "documents_not_present = 0\n",
    "valid_document = 0\n",
    "invalid_document = 0\n",
    "\n",
    "for q_data in train9b:\n",
    "    for d in q_data[\"documents\"]:\n",
    "        _id = d.split(\"/\")[-1]\n",
    "        if _id in articles:\n",
    "            if to_date(q_data[\"limit_date\"]) >= to_date(articles[_id][\"pubdate\"]):\n",
    "                valid_document += 1\n",
    "            else:\n",
    "                invalid_document += 1\n",
    "        else:\n",
    "            documents_not_present+=1\n",
    "\n",
    "print(\"documents_not_present\",documents_not_present)\n",
    "print(\"invalid_document\", invalid_document)\n",
    "print(\"valid_document\", valid_document)"
   ]
  },
  {
   "cell_type": "code",
   "execution_count": 22,
   "metadata": {},
   "outputs": [
    {
     "data": {
      "text/plain": [
       "datetime.datetime(2014, 12, 1, 0, 0)"
      ]
     },
     "execution_count": 22,
     "metadata": {},
     "output_type": "execute_result"
    }
   ],
   "source": [
    "#documents_not_present 108\n",
    "#invalid_document 1038\n",
    "#valid_document 34139\n"
   ]
  },
  {
   "cell_type": "code",
   "execution_count": 28,
   "metadata": {},
   "outputs": [
    {
     "data": {
      "text/plain": [
       "False"
      ]
     },
     "execution_count": 28,
     "metadata": {},
     "output_type": "execute_result"
    }
   ],
   "source": []
  },
  {
   "cell_type": "code",
   "execution_count": null,
   "metadata": {},
   "outputs": [],
   "source": []
  }
 ],
 "metadata": {
  "kernelspec": {
   "display_name": "py-bioasq",
   "language": "python",
   "name": "py-bioasq"
  },
  "language_info": {
   "codemirror_mode": {
    "name": "ipython",
    "version": 3
   },
   "file_extension": ".py",
   "mimetype": "text/x-python",
   "name": "python",
   "nbconvert_exporter": "python",
   "pygments_lexer": "ipython3",
   "version": "3.6.13"
  }
 },
 "nbformat": 4,
 "nbformat_minor": 2
}
