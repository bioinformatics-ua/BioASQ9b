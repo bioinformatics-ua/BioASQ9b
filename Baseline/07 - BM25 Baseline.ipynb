{
 "cells": [
  {
   "cell_type": "code",
   "execution_count": 1,
   "metadata": {},
   "outputs": [],
   "source": [
    "import json\n",
    "from collections import defaultdict\n",
    "from nir.utils import change_bm25_parameters\n",
    "from elasticsearch import Elasticsearch, helpers\n",
    "\n",
    "import os\n",
    "import pickle\n",
    "import numpy as np\n",
    "import sys\n",
    "\n",
    "\n",
    "    \n",
    "from utils import *"
   ]
  },
  {
   "cell_type": "code",
   "execution_count": 2,
   "metadata": {},
   "outputs": [],
   "source": [
    "es = Elasticsearch([\"http://193.136.175.98:8125\"])\n",
    "index_name = \"bioasq_9b\""
   ]
  },
  {
   "cell_type": "markdown",
   "metadata": {},
   "source": [
    "# Round 1 "
   ]
  },
  {
   "cell_type": "code",
   "execution_count": 7,
   "metadata": {},
   "outputs": [],
   "source": [
    "queries = load_queries(\"BioASQ-task9bPhaseA-testset1\", maps=[(\"body\",\"query\")])"
   ]
  },
  {
   "cell_type": "code",
   "execution_count": 8,
   "metadata": {},
   "outputs": [
    {
     "name": "stdout",
     "output_type": "stream",
     "text": [
      "Setting the k1 and b for BM25\n",
      "Running query: 80\r"
     ]
    }
   ],
   "source": [
    "baseline = execute_search(es, queries, 100, index_name, k1=0.9, b=0.4, limit_date=\"9021-01\")\n",
    "baseline = create_document_run(queries, baseline)\n",
    "save_document_run(baseline, \"runs/rnd1/bm25-baseline-long.run\")\n",
    "write_as_bioasq(baseline, \"runs/rnd1/bm25-baseline-long.json\")\n",
    "write_as_trec(baseline, \"runs/rnd1/bm25-baseline-long.trec\")"
   ]
  },
  {
   "cell_type": "markdown",
   "metadata": {},
   "source": [
    "# Round 2 "
   ]
  },
  {
   "cell_type": "code",
   "execution_count": 4,
   "metadata": {},
   "outputs": [
    {
     "name": "stdout",
     "output_type": "stream",
     "text": [
      "Setting the k1 and b for BM25\n",
      "Running query: 80\r"
     ]
    }
   ],
   "source": [
    "queries = load_queries(\"BioASQ-task9bPhaseA-testset2\", maps=[(\"body\",\"query\")])\n",
    "\n",
    "baseline = execute_search(es, queries, 100, index_name, k1=0.3, b=0.67, limit_date=\"2021-01\")\n",
    "baseline = create_document_run(queries, baseline)\n",
    "save_document_run(baseline, \"runs/rnd2/bm25-baseline.run\")\n",
    "write_as_bioasq(baseline, \"runs/rnd2/bm25-baseline.json\")\n",
    "write_as_trec(baseline, \"runs/rnd2/bm25-baseline.trec\")"
   ]
  },
  {
   "cell_type": "markdown",
   "metadata": {},
   "source": [
    "# Round 3"
   ]
  },
  {
   "cell_type": "code",
   "execution_count": 4,
   "metadata": {},
   "outputs": [
    {
     "name": "stdout",
     "output_type": "stream",
     "text": [
      "Setting the k1 and b for BM25\n",
      "Running query: 80\r"
     ]
    }
   ],
   "source": [
    "queries = load_queries(\"BioASQ-task9bPhaseA-testset3\", maps=[(\"body\",\"query\")])\n",
    "\n",
    "baseline = execute_search(es, queries, 100, index_name, k1=0.5, b=0.79, limit_date=\"2021-01\")\n",
    "baseline = create_document_run(queries, baseline)\n",
    "save_document_run(baseline, \"runs/rnd3/bm25-baseline.run\")\n",
    "write_as_bioasq(baseline, \"runs/rnd3/bm25-baseline.json\")\n",
    "write_as_trec(baseline, \"runs/rnd3/bm25-baseline.trec\")"
   ]
  },
  {
   "cell_type": "markdown",
   "metadata": {},
   "source": [
    "# Round 4"
   ]
  },
  {
   "cell_type": "code",
   "execution_count": 3,
   "metadata": {},
   "outputs": [
    {
     "name": "stdout",
     "output_type": "stream",
     "text": [
      "Setting the k1 and b for BM25\n",
      "Running query: 80\r"
     ]
    }
   ],
   "source": [
    "queries = load_queries(\"BioASQ-task9bPhaseA-testset4\", maps=[(\"body\",\"query\")])\n",
    "\n",
    "baseline = execute_search(es, queries, 100, index_name, k1=0.6, b=0.69, limit_date=\"2021-01\")\n",
    "baseline = create_document_run(queries, baseline)\n",
    "save_document_run(baseline, \"runs/rnd4/bm25-baseline.run\")\n",
    "write_as_bioasq(baseline, \"runs/rnd4/bm25-baseline.json\")\n",
    "write_as_trec(baseline, \"runs/rnd4/bm25-baseline.trec\")\n"
   ]
  },
  {
   "cell_type": "code",
   "execution_count": 4,
   "metadata": {},
   "outputs": [
    {
     "name": "stdout",
     "output_type": "stream",
     "text": [
      "Setting the k1 and b for BM25\n",
      "Running query: 80\r"
     ]
    }
   ],
   "source": [
    "\n",
    "\n",
    "queries = load_queries(\"BioASQ-task9bPhaseA-testset4\", maps=[(\"body\",\"query\")])\n",
    "\n",
    "baseline = execute_search(es, queries, 100, index_name, k1=0.6, b=0.69, limit_date=\"9999-01\")\n",
    "baseline = create_document_run(queries, baseline)\n",
    "save_document_run(baseline, \"runs/rnd4/bm25-baseline-nodate.run\")\n",
    "write_as_bioasq(baseline, \"runs/rnd4/bm25-baseline-nodate.json\")\n",
    "write_as_trec(baseline, \"runs/rnd4/bm25-baseline-nodate.trec\")"
   ]
  },
  {
   "cell_type": "markdown",
   "metadata": {},
   "source": [
    "# Round 5"
   ]
  },
  {
   "cell_type": "code",
   "execution_count": 3,
   "metadata": {},
   "outputs": [
    {
     "name": "stdout",
     "output_type": "stream",
     "text": [
      "Setting the k1 and b for BM25\n",
      "Running query: 80\r"
     ]
    }
   ],
   "source": [
    "queries = load_queries(\"BioASQ-task9bPhaseA-testset5\", maps=[(\"body\",\"query\")])\n",
    "\n",
    "baseline = execute_search(es, queries, 100, index_name, k1=0.5, b=0.15, limit_date=\"2021-01\")\n",
    "baseline = create_document_run(queries, baseline)\n",
    "save_document_run(baseline, \"runs/rnd5/bm25-baseline.run\")\n",
    "write_as_bioasq(baseline, \"runs/rnd5/bm25-baseline.json\")\n",
    "write_as_trec(baseline, \"runs/rnd5/bm25-baseline.trec\")"
   ]
  },
  {
   "cell_type": "code",
   "execution_count": null,
   "metadata": {},
   "outputs": [],
   "source": []
  }
 ],
 "metadata": {
  "kernelspec": {
   "display_name": "py-bioasq",
   "language": "python",
   "name": "py-bioasq"
  },
  "language_info": {
   "codemirror_mode": {
    "name": "ipython",
    "version": 3
   },
   "file_extension": ".py",
   "mimetype": "text/x-python",
   "name": "python",
   "nbconvert_exporter": "python",
   "pygments_lexer": "ipython3",
   "version": "3.6.13"
  }
 },
 "nbformat": 4,
 "nbformat_minor": 2
}
