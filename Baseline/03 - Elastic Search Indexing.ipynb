{
 "cells": [
  {
   "cell_type": "code",
   "execution_count": 1,
   "metadata": {},
   "outputs": [],
   "source": [
    "from elasticsearch import Elasticsearch, helpers\n",
    "from utils import collection_iterator\n",
    "import json\n",
    "\n",
    "import os\n",
    "import gc\n",
    "import sys\n",
    "import pickle\n",
    "\n",
    "es_host = \"http://193.136.175.98:8125\"\n",
    "index_name = \"bioasq_9b\"\n",
    "\n",
    "zipped_collection = \"/backup/pubmed_archive_json/\"+index_name+\".tar.gz\"\n",
    "\n",
    "es = Elasticsearch([es_host])"
   ]
  },
  {
   "cell_type": "code",
   "execution_count": 2,
   "metadata": {},
   "outputs": [
    {
     "name": "stdout",
     "output_type": "stream",
     "text": [
      "Index created with code: {'acknowledged': True, 'shards_acknowledged': True, 'index': 'bioasq_9b'}\n"
     ]
    }
   ],
   "source": [
    "es.indices.delete(index=index_name, ignore=[400, 404])\n",
    "\n",
    "_out = es.indices.create(index=index_name,\n",
    "                           body={\"mappings\": {\n",
    "                                     \"dynamic\": \"false\",\n",
    "                                     \"properties\": {\n",
    "                                         \"id\": {\n",
    "                                             \"type\": \"keyword\"\n",
    "                                             },\n",
    "                                         \"text\": {\n",
    "                                             \"analyzer\": \"english\",\n",
    "                                             \"type\": \"text\"\n",
    "                                             },\n",
    "                                         \"mesh_terms\": {\n",
    "                                             \"analyzer\": \"english\",\n",
    "                                             \"type\": \"text\"\n",
    "                                             },\n",
    "                                         \"title\": {\n",
    "                                             \"type\": \"keyword\",\n",
    "                                             \"store\": \"true\"\n",
    "                                             },\n",
    "                                         \"pubdate\": {\n",
    "                                             \"type\": \"date\",\n",
    "                                             \"format\": \"yyyy-MM||yyyy||yyyy-MM-dd\",\n",
    "                                             }\n",
    "                                         }\n",
    "                                     }\n",
    "                                 })\n",
    "print(\"Index created with code:\",_out)"
   ]
  },
  {
   "cell_type": "code",
   "execution_count": null,
   "metadata": {},
   "outputs": [
    {
     "name": "stdout",
     "output_type": "stream",
     "text": [
      "[CORPORA] Openning tar file /backup/pubmed_archive_json/bioasq_9b.tar.gz\n",
      "[CORPORA] Openning tar file tmp/tmp5bgbvft3/bioasq_9b_00000000_to_03000000\n",
      "[CORPORA] Openning tar file tmp/tmp5bgbvft3/bioasq_9b_03000000_to_06000000\n",
      "[CORPORA] Openning tar file tmp/tmp5bgbvft3/bioasq_9b_06000000_to_09000000\n",
      "8980000 documents indexed\r"
     ]
    }
   ],
   "source": [
    "def data_to_index_iterator():\n",
    "    index = 0\n",
    "    \n",
    "    # Batch read the collection to memory\n",
    "    #for articles in collection_iterator(zipped_collection):\n",
    "    for article_subset in collection_iterator(zipped_collection):\n",
    "        for article in article_subset:\n",
    "            yield {\n",
    "              \"_index\": index_name,\n",
    "              \"id\": article[\"id\"],\n",
    "              \"text\": article[\"title\"]+\" \"+article[\"abstract\"],\n",
    "              \"mesh_terms\": article[\"mesh_terms\"],\n",
    "              \"title\": article[\"title\"],\n",
    "              \"pubdate\": article[\"pubdate\"]\n",
    "            }\n",
    "            index += 1\n",
    "            if not index % 10000:\n",
    "                print(\"{} documents indexed\".format(index),end=\"\\r\")\n",
    "\n",
    "        \n",
    "\n",
    "helpers.bulk(es, data_to_index_iterator(), chunk_size=1000, request_timeout=300)"
   ]
  },
  {
   "cell_type": "code",
   "execution_count": null,
   "metadata": {},
   "outputs": [],
   "source": []
  }
 ],
 "metadata": {
  "kernelspec": {
   "display_name": "py-bioasq",
   "language": "python",
   "name": "py-bioasq"
  },
  "language_info": {
   "codemirror_mode": {
    "name": "ipython",
    "version": 3
   },
   "file_extension": ".py",
   "mimetype": "text/x-python",
   "name": "python",
   "nbconvert_exporter": "python",
   "pygments_lexer": "ipython3",
   "version": "3.6.13"
  }
 },
 "nbformat": 4,
 "nbformat_minor": 2
}
